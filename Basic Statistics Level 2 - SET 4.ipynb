{
 "cells": [
  {
   "cell_type": "code",
   "execution_count": 1,
   "id": "be2fc95e",
   "metadata": {},
   "outputs": [],
   "source": [
    "from scipy import stats"
   ]
  },
  {
   "cell_type": "markdown",
   "id": "0be0c755",
   "metadata": {},
   "source": [
    "# Q3"
   ]
  },
  {
   "cell_type": "code",
   "execution_count": 3,
   "id": "3a088681",
   "metadata": {},
   "outputs": [
    {
     "data": {
      "text/plain": [
       "0.5497382248301129"
      ]
     },
     "execution_count": 3,
     "metadata": {},
     "output_type": "execute_result"
    }
   ],
   "source": [
    "prob_less_than_55 = stats.norm.cdf(55,50,40)\n",
    "prob_less_than_55"
   ]
  },
  {
   "cell_type": "code",
   "execution_count": 4,
   "id": "f4813def",
   "metadata": {},
   "outputs": [
    {
     "data": {
      "text/plain": [
       "0.4502617751698871"
      ]
     },
     "execution_count": 4,
     "metadata": {},
     "output_type": "execute_result"
    }
   ],
   "source": [
    "prob_less_than_45 = stats.norm.cdf(45,50,40)\n",
    "prob_less_than_45"
   ]
  },
  {
   "cell_type": "code",
   "execution_count": 5,
   "id": "862aafec",
   "metadata": {},
   "outputs": [
    {
     "data": {
      "text/plain": [
       "0.09947644966022584"
      ]
     },
     "execution_count": 5,
     "metadata": {},
     "output_type": "execute_result"
    }
   ],
   "source": [
    "prob_between_45_and_55 = prob_less_than_55 - prob_less_than_45\n",
    "prob_between_45_and_55"
   ]
  },
  {
   "cell_type": "code",
   "execution_count": 6,
   "id": "e175568d",
   "metadata": {},
   "outputs": [
    {
     "data": {
      "text/plain": [
       "0.9005235503397742"
      ]
     },
     "execution_count": 6,
     "metadata": {},
     "output_type": "execute_result"
    }
   ],
   "source": [
    "prob_not_between_45_and_55 = 1 - prob_between_45_and_55\n",
    "prob_not_between_45_and_55"
   ]
  },
  {
   "cell_type": "code",
   "execution_count": null,
   "id": "50b0c3a3",
   "metadata": {},
   "outputs": [],
   "source": []
  }
 ],
 "metadata": {
  "kernelspec": {
   "display_name": "Python 3 (ipykernel)",
   "language": "python",
   "name": "python3"
  },
  "language_info": {
   "codemirror_mode": {
    "name": "ipython",
    "version": 3
   },
   "file_extension": ".py",
   "mimetype": "text/x-python",
   "name": "python",
   "nbconvert_exporter": "python",
   "pygments_lexer": "ipython3",
   "version": "3.9.7"
  }
 },
 "nbformat": 4,
 "nbformat_minor": 5
}
